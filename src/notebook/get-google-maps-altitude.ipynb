{
 "cells": [
  {
   "cell_type": "code",
   "execution_count": null,
   "metadata": {},
   "outputs": [],
   "source": [
    "#Python Notebooks - Changing work directory\n",
    "import os\n",
    "\n",
    "# get the current working directory\n",
    "cwd = os.getcwd()\n",
    "\n",
    "# traverse up the directory tree until we find the project root\n",
    "while not os.path.isfile(os.path.join(cwd, '.gitignore')):\n",
    "    cwd = os.path.dirname(cwd)\n",
    "\n",
    "# set the working directory to the project root\n",
    "os.chdir(cwd)"
   ]
  },
  {
   "attachments": {},
   "cell_type": "markdown",
   "metadata": {},
   "source": [
    "# Imports"
   ]
  },
  {
   "cell_type": "code",
   "execution_count": null,
   "metadata": {},
   "outputs": [],
   "source": [
    "from src.functions import *"
   ]
  },
  {
   "attachments": {},
   "cell_type": "markdown",
   "metadata": {},
   "source": [
    "# Functionality"
   ]
  },
  {
   "cell_type": "code",
   "execution_count": null,
   "metadata": {},
   "outputs": [],
   "source": [
    "## User changeable area ##\n",
    "\n",
    "filename_kml = 'Wetaskiwin_to_Leduc.kml' # File should be in [kml] folder.\n",
    "num_samples = 10                         # This is the number of samples to take along the path.\n",
    "\n",
    "## End of user changeable area ##\n",
    "\n",
    "load_dotenv()\n",
    "API_KEY = os.getenv('API_KEY')\n",
    "\n",
    "geo_df = kml2df(filename_kml)\n",
    "geo_df = get_elevation_data(geo_df, API_KEY, num_samples=num_samples)\n",
    "geo_df = calculate_distances(geo_df)\n",
    "write_to_csv(geo_df, filename_kml)\n",
    "plot_elevation_profile(geo_df, filename_kml, show_plot=True)"
   ]
  },
  {
   "attachments": {},
   "cell_type": "markdown",
   "metadata": {},
   "source": [
    "# Descriptive Statistics"
   ]
  },
  {
   "cell_type": "code",
   "execution_count": null,
   "metadata": {},
   "outputs": [],
   "source": [
    "# Number of data points\n",
    "num_data_points = len(geo_df)\n",
    "original_num_data_points = len(kml2df(filename_kml))\n",
    "print(f\"Number of data points (After processing): {num_data_points}, (Original: {original_num_data_points})\")\n",
    "\n",
    "# Total distance of the file\n",
    "total_distance = geo_df['Distance[Km]'].sum()\n",
    "distance_increment_mean = geo_df['Distance[Km]'].mean()\n",
    "distance_increment_std = geo_df['Distance[Km]'].std()\n",
    "print(f\"Total distance: {total_distance:.2f} km, (Average distance increment: {distance_increment_mean:.2f} km, standard deviation: {distance_increment_std:.2f} km)\")\n",
    "\n",
    "# Maximum and minimum altitudes, average altitude, and standard deviation of the altitude\n",
    "altitude_stats = geo_df['Elevation[m]'].describe()\n",
    "print(f\"[Altitude] Maximum: {altitude_stats['max']:.2f} m, Minimum: {altitude_stats['min']:.2f} m, Average: {altitude_stats['mean']:.2f} m, Standard Deviation: {altitude_stats['std']:.2f} m\")\n",
    "\n",
    "# Latitude and Longitude statistics\n",
    "lat_stats = geo_df['Lat'].describe()\n",
    "lon_stats = geo_df['Lon'].describe()\n",
    "print(f\"[Latitude] Minimum: {lat_stats['min']:.6f}, Maximum: {lat_stats['max']:.6f}\")\n",
    "print(f\"[Longitude] Minimum: {lon_stats['min']:.6f}, Maximum: {lon_stats['max']:.6f}\")"
   ]
  }
 ],
 "metadata": {
  "interpreter": {
   "hash": "ac59ebe37160ed0dfa835113d9b8498d9f09ceb179beaac4002f036b9467c963"
  },
  "kernelspec": {
   "display_name": "Python 3.9.7 64-bit",
   "language": "python",
   "name": "python3"
  },
  "language_info": {
   "codemirror_mode": {
    "name": "ipython",
    "version": 3
   },
   "file_extension": ".py",
   "mimetype": "text/x-python",
   "name": "python",
   "nbconvert_exporter": "python",
   "pygments_lexer": "ipython3",
   "version": "3.10.9"
  },
  "orig_nbformat": 4
 },
 "nbformat": 4,
 "nbformat_minor": 2
}
